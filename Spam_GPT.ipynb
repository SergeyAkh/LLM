{
 "cells": [
  {
   "cell_type": "markdown",
   "id": "ea647c61-81c9-48ed-b98f-89a84c91dc86",
   "metadata": {},
   "source": [
    "# Model with GPT architecture for classification spam massages"
   ]
  },
  {
   "cell_type": "markdown",
   "id": "a316abbc-b368-4e74-a03b-73e772a633fd",
   "metadata": {},
   "source": [
    "In this approach, I replicated the GPT-2 architecture in order to load pretrained weights from OpenAI and extend the model with a classification head for text classification tasks.\n",
    "\n",
    "However, due to the class imbalance in the dataset, it may be more effective to leverage the model in a way that aligns with its original purpose—generative modeling. Specifically, we propose fine-tuning the pretrained GPT-2 model on the underrepresented class to generate additional synthetic samples. This augmentation strategy aims to balance the dataset and improve classification performance by enriching the training data with contextually relevant examples.\n",
    "\n",
    "<br> Data set is provided form [`UC Irvine`](https://archive.ics.uci.edu/)"
   ]
  },
  {
   "cell_type": "markdown",
   "id": "50d73b89-a178-4686-8c26-af1576e7411d",
   "metadata": {},
   "source": [
    "## Outline\n",
    "- [ 1 - Results](#1)\n",
    "- [ 2 - Import Data](#2)\n",
    "- [ 3 - Agmentation spam data by generating new text after finetuning model](#3)\n",
    "- [ 4 - Finetune classification model on balanced dataset](#4)"
   ]
  },
  {
   "cell_type": "markdown",
   "id": "b857efbc-f134-4692-86af-35fa7737bf7b",
   "metadata": {},
   "source": [
    "<a name=\"1\"></a>\n",
    "## 1 - Results"
   ]
  },
  {
   "cell_type": "code",
   "execution_count": 317,
   "id": "dd0843ad-6257-46ab-b7f0-4e22340001e7",
   "metadata": {},
   "outputs": [
    {
     "name": "stdout",
     "output_type": "stream",
     "text": [
      "              precision    recall  f1-score   support\n",
      "\n",
      "         ham       0.96      0.99      0.98       955\n",
      "        spam       0.99      0.96      0.98       975\n",
      "\n",
      "    accuracy                           0.98      1930\n",
      "   macro avg       0.98      0.98      0.98      1930\n",
      "weighted avg       0.98      0.98      0.98      1930\n",
      "\n"
     ]
    }
   ],
   "source": [
    "print(classification_report(df_with_pred[\"Label\"], df_with_pred[\"Pred\"]))"
   ]
  },
  {
   "cell_type": "code",
   "execution_count": 318,
   "id": "082cb6e6-0096-481c-bacc-cfe688836cf5",
   "metadata": {},
   "outputs": [
    {
     "data": {
      "image/png": "[encoded data removed]",
      "text/plain": [
       "<Figure size 800x600 with 2 Axes>"
      ]
     },
     "metadata": {},
     "output_type": "display_data"
    }
   ],
   "source": [
    "plot_confusion_matrix(df_with_pred[\"Label\"], df_with_pred[\"Pred\"])"
   ]
  },
  {
   "cell_type": "code",
   "execution_count": 319,
   "id": "3bcbcd2a-c5cd-4625-b6d2-fa45e4853f93",
   "metadata": {},
   "outputs": [
    {
     "name": "stderr",
     "output_type": "stream",
     "text": [
      "Processing Batches: 100%|██████████| 2/2 [00:00<00:00,  5.62it/s]\n"
     ]
    }
   ],
   "source": [
    "examples = make_predictions(model_class, test_df, batch_size = None, num_examples = 3)"
   ]
  },
  {
   "cell_type": "code",
   "execution_count": 334,
   "id": "e9e6bf88-3f16-4cb4-a147-3203f0ac7328",
   "metadata": {},
   "outputs": [
    {
     "name": "stdout",
     "output_type": "stream",
     "text": [
      "Example 0, text:\n",
      " 18240 shows that u! Only 150ppm on tv. 16+. GBP1.50/week.\n",
      " true label: spam, predicted lable: spam\n",
      "Example 1, text:\n",
      " ROMCAPspam Everyone around should be responding well to your presence since u r strong there. Psychic? Reply ANS. po pinc txt Stop to No: 81014649 NOW\n",
      " true label: spam, predicted lable: spam\n",
      "Example 2, text:\n",
      " Loans for Nokias or Poly charity for polys 1 weekly @ 150p Please call poly/120p 16+only!\n",
      " true label: spam, predicted lable: spam\n",
      "Example 3, text:\n",
      " Ok i wont call or disturb any one. I know all are avoiding me. I am a burden for all\n",
      " true label: ham, predicted lable: ham\n",
      "Example 4, text:\n",
      " Where do you need to go to get it?\n",
      " true label: ham, predicted lable: ham\n",
      "Example 5, text:\n",
      " Goodmorning,my grandfather expired..so am on leave today.\n",
      " true label: ham, predicted lable: ham\n"
     ]
    }
   ],
   "source": [
    "for i in range(len(examples)):\n",
    "    print(f\"Example {i}, text:\\n {examples.loc[i][0]}\\n true label: {examples.loc[i][1]}, predicted label: {examples.loc[i][2]}\")"
   ]
  },
  {
   "cell_type": "markdown",
   "id": "fcfc77f1-d598-46c2-8b4c-a9b6568195e5",
   "metadata": {},
   "source": [
    "<a name=\"2\"></a>\n",
    "## 2 - Import Data"
   ]
  },
  {
   "cell_type": "code",
   "execution_count": 222,
   "id": "72dbbe3b-cd9c-4cf7-893a-0abb2cb8dffd",
   "metadata": {},
   "outputs": [
    {
     "name": "stdout",
     "output_type": "stream",
     "text": [
      "sms_spam_collection/SMSSpamCollection.tsv already exists. Skipping download and extraction.\n"
     ]
    }
   ],
   "source": [
    "import os\n",
    "import urllib.request\n",
    "from torch.utils.data import Dataset, DataLoader\n",
    "import torch\n",
    "import pandas as pd\n",
    "import urllib.request\n",
    "import ssl\n",
    "import zipfile\n",
    "import os\n",
    "from pathlib import Path\n",
    "import time\n",
    "from tqdm import tqdm\n",
    "import importlib\n",
    "\n",
    "import matplotlib.pyplot as plt\n",
    "\n",
    "import tiktoken\n",
    "\n",
    "import GPT_manual_architecture as GPT_model\n",
    "\n",
    "import warnings\n",
    "warnings.filterwarnings(\"ignore\")\n",
    "\n",
    "from sklearn.metrics import classification_report, confusion_matrix, accuracy_score\n",
    "\n",
    "import seaborn as sns\n",
    "\n",
    "#Thise is my .py file with whole GPT architecture\n",
    "import GPT_manual_architecture as GPT_model\n",
    "\n",
    "#File for downloading weights and load them into model\n",
    "from download_wights import download_and_load_gpt2, load_weights_into_gpt\n",
    "\n",
    "#File for creating Dataloaders\n",
    "import Dataset_dataloader as Loader"
   ]
  },
  {
   "cell_type": "code",
   "execution_count": null,
   "id": "316c0a29-c1a3-471a-8b11-af6c9b65f878",
   "metadata": {},
   "outputs": [],
   "source": [
    "url = \"https://archive.ics.uci.edu/static/public/228/sms+spam+collection.zip\"\n",
    "zip_path = \"sms_spam_collection.zip\"\n",
    "extracted_path = \"sms_spam_collection\"\n",
    "data_file_path = Path(extracted_path) / \"SMSSpamCollection.tsv\"\n",
    "\n",
    "def download_and_unzip_spam_data(url, zip_path, extracted_path, data_file_path):\n",
    "    \"\"\"\n",
    "    Function that download dataset\n",
    "    \n",
    "    Returns:\n",
    "    path where file is download\n",
    "    \"\"\"\n",
    "    if data_file_path.exists():\n",
    "        print(f\"{data_file_path} already exists. Skipping download and extraction.\")\n",
    "        return\n",
    "\n",
    "    # Create an unverified SSL context\n",
    "    ssl_context = ssl._create_unverified_context()\n",
    "\n",
    "    # Downloading the file\n",
    "    with urllib.request.urlopen(url, context=ssl_context) as response:\n",
    "        with open(zip_path, \"wb\") as out_file:\n",
    "            out_file.write(response.read())\n",
    "\n",
    "    # Unzipping the file\n",
    "    with zipfile.ZipFile(zip_path, \"r\") as zip_ref:\n",
    "        zip_ref.extractall(extracted_path)\n",
    "\n",
    "    # Add .tsv file extension\n",
    "    original_file_path = Path(extracted_path) / \"SMSSpamCollection\"\n",
    "    os.rename(original_file_path, data_file_path)\n",
    "    print(f\"File downloaded and saved as {data_file_path}\")\n",
    "\n",
    "download_and_unzip_spam_data(url, zip_path, extracted_path, data_file_path)"
   ]
  },
  {
   "cell_type": "code",
   "execution_count": 284,
   "id": "a9253527-a379-488d-8759-517596303937",
   "metadata": {},
   "outputs": [],
   "source": [
    "df = pd.read_csv(data_file_path, sep=\"\\t\", header=None, names=[\"Label\", \"Text\"])"
   ]
  },
  {
   "cell_type": "code",
   "execution_count": 71,
   "id": "2306de7b-762e-44e0-b537-84eb0e591391",
   "metadata": {},
   "outputs": [],
   "source": [
    "target_names = df[\"Label\"].unique()\n",
    "num_classes = df[\"Label\"].nunique()"
   ]
  },
  {
   "cell_type": "code",
   "execution_count": 48,
   "id": "e04485f1-acce-426d-ac98-1f524578af83",
   "metadata": {},
   "outputs": [],
   "source": [
    "def plot_lable(df):\n",
    "    label_counts = df['Label'].value_counts()\n",
    "    fig, ax = plt.subplots(figsize=(8,6))\n",
    "    wedges, texts, autotexts = ax.pie(label_counts, autopct='%1.1f%%', startangle=90)\n",
    "    \n",
    "    ax.axis('equal')\n",
    "    ax.set_title('Proportion of Labels in Train Dataset')\n",
    "    ax.legend(wedges, target_names, title=\"Labels\", loc=\"center left\", bbox_to_anchor=(1, 0, 0.5, 1))\n",
    "    plt.show()"
   ]
  },
  {
   "cell_type": "code",
   "execution_count": 6,
   "id": "5a106b9a-6809-4454-97bb-57fc04e4dc6b",
   "metadata": {},
   "outputs": [
    {
     "data": {
      "image/png": "[encoded data removed]",
      "text/plain": [
       "<Figure size 800x600 with 1 Axes>"
      ]
     },
     "metadata": {},
     "output_type": "display_data"
    }
   ],
   "source": [
    "plot_lable(df)"
   ]
  },
  {
   "cell_type": "code",
   "execution_count": 8,
   "id": "d239979e-1e0c-4569-b5d7-b3f75684d16b",
   "metadata": {},
   "outputs": [],
   "source": [
    "tokenizer = tiktoken.get_encoding(\"gpt2\")"
   ]
  },
  {
   "cell_type": "code",
   "execution_count": 9,
   "id": "046ea480-6576-41cb-9c9e-455bca955ecb",
   "metadata": {},
   "outputs": [],
   "source": [
    "#Let's define basic parameters for GPT-2 model\n",
    "CHOOSE_MODEL = \"gpt2-small (124M)\"\n",
    "\n",
    "BASE_CONFIG = {\n",
    "    \"vocab_size\": 50257,     # Vocabulary size\n",
    "    \"context_length\": 1024,  # Context length\n",
    "    \"drop_rate\": 0.1,        # Dropout rate\n",
    "    \"qkv_bias\": True         # Query-key-value bias\n",
    "}\n",
    "\n",
    "model_configs = {\n",
    "    \"gpt2-small (124M)\": {\"emb_dim\": 768, \"n_layers\": 12, \"n_heads\": 12},\n",
    "    \"gpt2-medium (355M)\": {\"emb_dim\": 1024, \"n_layers\": 24, \"n_heads\": 16},\n",
    "    \"gpt2-large (774M)\": {\"emb_dim\": 1280, \"n_layers\": 36, \"n_heads\": 20},\n",
    "    \"gpt2-xl (1558M)\": {\"emb_dim\": 1600, \"n_layers\": 48, \"n_heads\": 25},\n",
    "}"
   ]
  },
  {
   "cell_type": "code",
   "execution_count": 10,
   "id": "03707422-2179-4437-82f4-4679500ec9f0",
   "metadata": {},
   "outputs": [],
   "source": [
    "BASE_CONFIG.update(model_configs[CHOOSE_MODEL])\n",
    "\n",
    "model_size = CHOOSE_MODEL.split(\" \")[-1].lstrip(\"(\").rstrip(\")\")"
   ]
  },
  {
   "cell_type": "code",
   "execution_count": 12,
   "id": "6839b57d-78d7-447d-9629-f935ba3f68b0",
   "metadata": {
    "scrolled": true
   },
   "outputs": [
    {
     "name": "stderr",
     "output_type": "stream",
     "text": [
      "/opt/anaconda3/lib/python3.12/site-packages/urllib3/connectionpool.py:1099: InsecureRequestWarning: Unverified HTTPS request is being made to host 'openaipublic.blob.core.windows.net'. Adding certificate verification is strongly advised. See: https://urllib3.readthedocs.io/en/latest/advanced-usage.html#tls-warnings\n",
      "  warnings.warn(\n"
     ]
    },
    {
     "name": "stdout",
     "output_type": "stream",
     "text": [
      "File already exists and is up-to-date: gpt2/124M/checkpoint\n"
     ]
    },
    {
     "name": "stderr",
     "output_type": "stream",
     "text": [
      "/opt/anaconda3/lib/python3.12/site-packages/urllib3/connectionpool.py:1099: InsecureRequestWarning: Unverified HTTPS request is being made to host 'openaipublic.blob.core.windows.net'. Adding certificate verification is strongly advised. See: https://urllib3.readthedocs.io/en/latest/advanced-usage.html#tls-warnings\n",
      "  warnings.warn(\n"
     ]
    },
    {
     "name": "stdout",
     "output_type": "stream",
     "text": [
      "File already exists and is up-to-date: gpt2/124M/encoder.json\n"
     ]
    },
    {
     "name": "stderr",
     "output_type": "stream",
     "text": [
      "/opt/anaconda3/lib/python3.12/site-packages/urllib3/connectionpool.py:1099: InsecureRequestWarning: Unverified HTTPS request is being made to host 'openaipublic.blob.core.windows.net'. Adding certificate verification is strongly advised. See: https://urllib3.readthedocs.io/en/latest/advanced-usage.html#tls-warnings\n",
      "  warnings.warn(\n"
     ]
    },
    {
     "name": "stdout",
     "output_type": "stream",
     "text": [
      "File already exists and is up-to-date: gpt2/124M/hparams.json\n"
     ]
    },
    {
     "name": "stderr",
     "output_type": "stream",
     "text": [
      "/opt/anaconda3/lib/python3.12/site-packages/urllib3/connectionpool.py:1099: InsecureRequestWarning: Unverified HTTPS request is being made to host 'openaipublic.blob.core.windows.net'. Adding certificate verification is strongly advised. See: https://urllib3.readthedocs.io/en/latest/advanced-usage.html#tls-warnings\n",
      "  warnings.warn(\n"
     ]
    },
    {
     "name": "stdout",
     "output_type": "stream",
     "text": [
      "File already exists and is up-to-date: gpt2/124M/model.ckpt.data-00000-of-00001\n"
     ]
    },
    {
     "name": "stderr",
     "output_type": "stream",
     "text": [
      "/opt/anaconda3/lib/python3.12/site-packages/urllib3/connectionpool.py:1099: InsecureRequestWarning: Unverified HTTPS request is being made to host 'openaipublic.blob.core.windows.net'. Adding certificate verification is strongly advised. See: https://urllib3.readthedocs.io/en/latest/advanced-usage.html#tls-warnings\n",
      "  warnings.warn(\n"
     ]
    },
    {
     "name": "stdout",
     "output_type": "stream",
     "text": [
      "File already exists and is up-to-date: gpt2/124M/model.ckpt.index\n"
     ]
    },
    {
     "name": "stderr",
     "output_type": "stream",
     "text": [
      "/opt/anaconda3/lib/python3.12/site-packages/urllib3/connectionpool.py:1099: InsecureRequestWarning: Unverified HTTPS request is being made to host 'openaipublic.blob.core.windows.net'. Adding certificate verification is strongly advised. See: https://urllib3.readthedocs.io/en/latest/advanced-usage.html#tls-warnings\n",
      "  warnings.warn(\n"
     ]
    },
    {
     "name": "stdout",
     "output_type": "stream",
     "text": [
      "File already exists and is up-to-date: gpt2/124M/model.ckpt.meta\n"
     ]
    },
    {
     "name": "stderr",
     "output_type": "stream",
     "text": [
      "/opt/anaconda3/lib/python3.12/site-packages/urllib3/connectionpool.py:1099: InsecureRequestWarning: Unverified HTTPS request is being made to host 'openaipublic.blob.core.windows.net'. Adding certificate verification is strongly advised. See: https://urllib3.readthedocs.io/en/latest/advanced-usage.html#tls-warnings\n",
      "  warnings.warn(\n"
     ]
    },
    {
     "name": "stdout",
     "output_type": "stream",
     "text": [
      "File already exists and is up-to-date: gpt2/124M/vocab.bpe\n"
     ]
    }
   ],
   "source": [
    "#Download pretrained weights\n",
    "settings, params = download_and_load_gpt2(model_size=model_size, models_dir=\"gpt2\")"
   ]
  },
  {
   "cell_type": "markdown",
   "id": "3b0351c7-d429-4b93-9044-e262a0f1e7cd",
   "metadata": {},
   "source": [
    "<a name=\"3\"></a>\n",
    "## 3 - Agmentation spam data by generating new text after finetuning model"
   ]
  },
  {
   "cell_type": "markdown",
   "id": "e5e5835e-470b-43f0-a9a7-14b80374d1a3",
   "metadata": {},
   "source": [
    "Let's fine tune pretrained model on spam texts in order to generate new spam data to augment dataset"
   ]
  },
  {
   "cell_type": "code",
   "execution_count": 84,
   "id": "2323475b-5edf-45c9-84f8-67c42586444e",
   "metadata": {},
   "outputs": [],
   "source": [
    "spam_df = df[df[\"Label\"]==\"spam\"][\"Text\"]"
   ]
  },
  {
   "cell_type": "code",
   "execution_count": 86,
   "id": "1df5072b-f8f3-4917-a2eb-9d993654f1da",
   "metadata": {},
   "outputs": [],
   "source": [
    "train_loader = Loader.create_dataloader_v1(\n",
    "    tokenizer,\n",
    "    spam_df,\n",
    "    batch_size=2,\n",
    "    max_length=BASE_CONFIG[\"context_length\"],\n",
    "    stride=BASE_CONFIG[\"context_length\"],\n",
    "    drop_last=True,\n",
    "    shuffle=True,\n",
    "    num_workers=0,\n",
    "    proc_type = \"generate_next_word\"\n",
    ")"
   ]
  },
  {
   "cell_type": "code",
   "execution_count": 16,
   "id": "9fe380b1-da28-4075-b62f-be2f1647585c",
   "metadata": {},
   "outputs": [],
   "source": [
    "augment_model = GPT_model.GPTModel(BASE_CONFIG)\n",
    "load_weights_into_gpt(augment_model, params)"
   ]
  },
  {
   "cell_type": "code",
   "execution_count": 17,
   "id": "482f1570-318c-4e8a-b9a6-9c030e2c0c84",
   "metadata": {},
   "outputs": [],
   "source": [
    "def calc_loss_batch(input_batch, target_batch, model, device):\n",
    "    input_batch, target_batch = input_batch.to(device), target_batch.to(device)\n",
    "    logits = model(input_batch)\n",
    "    loss = torch.nn.functional.cross_entropy(logits.flatten(0, 1), target_batch.flatten())\n",
    "    return loss\n",
    "    \n",
    "def calc_loss_loader(data_loader, model, device, num_batches=None):\n",
    "    total_loss = 0.\n",
    "    if len(data_loader) == 0:\n",
    "        return float(\"nan\")\n",
    "    elif num_batches is None:\n",
    "        num_batches = len(data_loader)\n",
    "    else:\n",
    "        # Reduce the number of batches to match the total number of batches in the data loader\n",
    "        # if num_batches exceeds the number of batches in the data loader\n",
    "        num_batches = min(num_batches, len(data_loader))\n",
    "    for i, (input_batch, target_batch) in enumerate(data_loader):\n",
    "        if i < num_batches:\n",
    "            loss = calc_loss_batch(input_batch, target_batch, model, device)\n",
    "            total_loss += loss.item()\n",
    "        else:\n",
    "            break\n",
    "    return total_loss / num_batches"
   ]
  },
  {
   "cell_type": "code",
   "execution_count": 18,
   "id": "6401d6b6-52e7-41c7-83a7-df439a4498dc",
   "metadata": {},
   "outputs": [],
   "source": [
    "if torch.cuda.is_available():\n",
    "   device = torch.device(\"cuda\")\n",
    "elif torch.backends.mps.is_available():\n",
    "   device = torch.device(\"mps\")\n",
    "else:\n",
    "   device = torch.device(\"cpu\")"
   ]
  },
  {
   "cell_type": "code",
   "execution_count": 19,
   "id": "20bbc75d-1398-4158-a33f-f9a8001c3bf8",
   "metadata": {},
   "outputs": [
    {
     "data": {
      "text/plain": [
       "<torch._C.Generator at 0x1074c70b0>"
      ]
     },
     "execution_count": 19,
     "metadata": {},
     "output_type": "execute_result"
    }
   ],
   "source": [
    "augment_model.to(device)\n",
    "torch.manual_seed(123)"
   ]
  },
  {
   "cell_type": "code",
   "execution_count": 20,
   "id": "3a3c6d64-8760-4344-8557-3807f58b046e",
   "metadata": {},
   "outputs": [],
   "source": [
    "def evaluate_model(model, train_loader, val_loader, device, eval_iter):\n",
    "    model.eval()\n",
    "    with torch.no_grad():\n",
    "        train_loss = calc_loss_loader(train_loader, model, device, num_batches=eval_iter)\n",
    "        val_loss = calc_loss_loader(val_loader, model, device, num_batches=eval_iter)\n",
    "    model.train()\n",
    "    return train_loss, val_loss"
   ]
  },
  {
   "cell_type": "code",
   "execution_count": 21,
   "id": "656b8c75-f6ee-4dd7-8bfb-cbbf67fb4942",
   "metadata": {},
   "outputs": [],
   "source": [
    "def generate(model, idx, max_new_tokens, context_size, temperature=0.0, top_k=None, eos_id=50256):\n",
    "    \"\"\"\n",
    "    Function that generate text based on given parameters\n",
    "\n",
    "    Parameters:\n",
    "    model - trained model\n",
    "    inx - starting token index\n",
    "    max_new_tokens - numbers of maximum tokens to generate\n",
    "    context_size - one of basick parameters for GPT model\n",
    "    temperature - parameter that control \"craetivity\" of model\n",
    "    top_k - parameter to make the output less deterministic and more diverse\n",
    "    eos_id - spechial token id for end of text\n",
    "    \n",
    "    Returns:\n",
    "    list of indexies\n",
    "    \"\"\"\n",
    "    batch_size = idx.size(0)\n",
    "    finished = torch.zeros(batch_size, dtype=torch.bool, device=idx.device)  # Tracks which sequences are done\n",
    "\n",
    "    for _ in range(max_new_tokens):\n",
    "        idx_cond = idx[:, -context_size:]\n",
    "\n",
    "        with torch.no_grad():\n",
    "            logits = model(idx_cond)\n",
    "\n",
    "        logits = logits[:, -1, :]\n",
    "\n",
    "        if top_k is not None:\n",
    "            top_logits, _ = torch.topk(logits, top_k)\n",
    "            min_val = top_logits[:, -1].unsqueeze(1)\n",
    "            logits = torch.where(logits < min_val, torch.full_like(logits, float('-inf')), logits)\n",
    "\n",
    "        if temperature > 0.0:\n",
    "            logits = logits / temperature\n",
    "            probs = torch.softmax(logits, dim=-1)\n",
    "            idx_next = torch.multinomial(probs, num_samples=1)  # (batch, 1)\n",
    "        else:\n",
    "            idx_next = torch.argmax(logits, dim=-1, keepdim=True)  # (batch, 1)\n",
    "\n",
    "        # Update finished sequences\n",
    "        if eos_id is not None:\n",
    "            eos_hit = (idx_next == eos_id).squeeze(1)  # (batch,)\n",
    "            finished = finished | eos_hit  # mark sequences as finished\n",
    "            if finished.all():\n",
    "                break  # All sequences have finished\n",
    "\n",
    "        # Append tokens\n",
    "        idx = torch.cat((idx, idx_next), dim=1)\n",
    "\n",
    "    return idx"
   ]
  },
  {
   "cell_type": "code",
   "execution_count": 22,
   "id": "70b18499-8fdf-489b-a8a1-81c00c7cd47f",
   "metadata": {},
   "outputs": [],
   "source": [
    "def text_to_token_ids(text, tokenizer):\n",
    "    \"\"\"\n",
    "    Function that convert text to token ids from given tokenizer\n",
    "\n",
    "    text - text string\n",
    "    \n",
    "    Returns:\n",
    "    list of indexies\n",
    "    \"\"\"\n",
    "    encoded = tokenizer.encode(text, allowed_special={'<|endoftext|>'})\n",
    "    encoded_tensor = torch.tensor(encoded).unsqueeze(0) # add batch dimension\n",
    "    return encoded_tensor\n",
    "    \n",
    "def token_ids_to_text(token_ids, tokenizer):\n",
    "    \"\"\"\n",
    "    Function that convert indexies to coresponging words from tokenizer\n",
    "    \n",
    "    Returns:\n",
    "    list of words\n",
    "    \"\"\"\n",
    "    flat = token_ids.squeeze(0) # remove batch dimension\n",
    "    return tokenizer.decode(flat.tolist())"
   ]
  },
  {
   "cell_type": "code",
   "execution_count": 23,
   "id": "f9039d85-ac2b-4f79-86b0-329bcb3ba846",
   "metadata": {},
   "outputs": [],
   "source": [
    "def generate_and_print_sample(model, tokenizer, device, start_context):\n",
    "    model.eval()\n",
    "    context_size = model.pos_emb.weight.shape[0]\n",
    "    encoded = text_to_token_ids(start_context, tokenizer).to(device)\n",
    "    with torch.no_grad():\n",
    "        token_ids = generate(\n",
    "            model=model,\n",
    "            idx=encoded,\n",
    "            max_new_tokens=50,\n",
    "            context_size=context_size,\n",
    "            top_k=25,\n",
    "            temperature=1.4\n",
    "        )\n",
    "\n",
    "    decoded_text = token_ids_to_text(token_ids, tokenizer)\n",
    "    # decoded_text = decoded_text.split(\"<|endoftext|>\")[0]\n",
    "    print(decoded_text.replace(\"\\n\", \" \"))  # Compact print format\n",
    "    model.train()"
   ]
  },
  {
   "cell_type": "code",
   "execution_count": 24,
   "id": "9942605a-c63c-4e4e-8c55-526351872ed6",
   "metadata": {},
   "outputs": [],
   "source": [
    "def train_model_simple(model, train_loader, val_loader, optimizer, device, num_epochs,\n",
    "                       eval_freq, eval_iter, start_context, tokenizer):\n",
    "    # Initialize lists to track losses and tokens seen\n",
    "    train_losses, val_losses, track_tokens_seen = [], [], []\n",
    "    tokens_seen, global_step = 0, -1\n",
    "\n",
    "    # Main training loop\n",
    "    for epoch in range(num_epochs):\n",
    "        model.train()\n",
    "\n",
    "        for input_batch, target_batch in train_loader:\n",
    "            optimizer.zero_grad() \n",
    "            loss = calc_loss_batch(input_batch, target_batch, model, device)\n",
    "            loss.backward()  \n",
    "            optimizer.step() \n",
    "            tokens_seen += input_batch.numel()  \n",
    "            global_step += 1\n",
    "\n",
    "            # Optional evaluation step\n",
    "            if global_step % eval_freq == 0:\n",
    "                train_loss, val_loss = evaluate_model(\n",
    "                    model, train_loader, val_loader, device, eval_iter)\n",
    "                train_losses.append(train_loss)\n",
    "                val_losses.append(val_loss)\n",
    "                track_tokens_seen.append(tokens_seen)\n",
    "                print(f\"Ep {epoch + 1} (Step {global_step:06d}): \"\n",
    "                      f\"Train loss {train_loss:.3f}, Val loss {val_loss:.3f}\")\n",
    "\n",
    "        # Print a sample text after each epoch\n",
    "        generate_and_print_sample(\n",
    "            model, tokenizer, device, start_context\n",
    "        )\n",
    "\n",
    "    return train_losses, val_losses, track_tokens_seen"
   ]
  },
  {
   "cell_type": "code",
   "execution_count": 40,
   "id": "df21a535-b775-489b-99e0-9674102c16cb",
   "metadata": {},
   "outputs": [
    {
     "name": "stdout",
     "output_type": "stream",
     "text": [
      "Ep 1 (Step 000000): Train loss 7.987, Val loss 7.929\n",
      "Ep 1 (Step 000005): Train loss 5.188, Val loss 5.037\n",
      "Ep 1 (Step 000010): Train loss 4.509, Val loss 4.319\n",
      "Congrats! 1st attempt will get your cash txts, your complimentary colour camera. £350.50\n",
      "Ep 2 (Step 000015): Train loss 3.895, Val loss 3.968\n",
      "Ep 2 (Step 000020): Train loss 3.397, Val loss 3.259\n",
      "Ep 2 (Step 000025): Train loss 3.028, Val loss 2.793\n",
      "Congrats! 1st week free T&Cs Rply POLYPHONICALLY AWARD! Only 10p per message: Rply shrgxxy420giftk11/10pm-stop. PoBox398x.\n",
      "Ep 3 (Step 000030): Train loss 2.476, Val loss 2.544\n",
      "Ep 3 (Step 000035): Train loss 2.148, Val loss 1.977\n",
      "Ep 3 (Step 000040): Train loss 1.812, Val loss 1.668\n",
      "Congrats! Uptown Admirer! 1Winaweed!Age16 -18/MobsmoreFrmMob.shp 4 more\n",
      "Ep 4 (Step 000045): Train loss 1.437, Val loss 1.552\n",
      "Ep 4 (Step 000050): Train loss 1.102, Val loss 1.119\n",
      "Ep 4 (Step 000055): Train loss 1.020, Val loss 1.053\n",
      "Congrats!Win the latest Ringtone from 2004!SKY OPT OUT 08701418720201 PO BOX 3W45WQ 150p\n",
      "Ep 5 (Step 000060): Train loss 0.867, Val loss 0.912\n",
      "Ep 5 (Step 000065): Train loss 0.638, Val loss 0.843\n",
      "Ep 5 (Step 000070): Train loss 0.575, Val loss 0.830\n",
      "Congrats! 1 year special cinema pass for 2 is yours! go 2 rply Txt XX and take your friend on the trip of a lifetime! or 2 join like saucy daytime fun! T &Cs SavaMob POBOX177, W15\n",
      "Ep 6 (Step 000075): Train loss 0.473, Val loss 0.541\n",
      "Ep 6 (Step 000080): Train loss 0.405, Val loss 0.359\n",
      "Ep 6 (Step 000085): Train loss 0.356, Val loss 0.372\n",
      "Congrats! We are trying to contact you. Last weekends draw shows u win £1000 cash to give away. To collect txt ENG STOP Box39822 W14RG 150p \n",
      "Ep 7 (Step 000090): Train loss 0.360, Val loss 0.397\n",
      "Ep 7 (Step 000095): Train loss 0.249, Val loss 0.302\n",
      "Ep 7 (Step 000100): Train loss 0.232, Val loss 0.322\n",
      "Congrats! Thanks to your mobile survey yesterday! I'm waiting to see what you look like. I repeat, and make fun of me. Fancy a flirt?Im fink we met send PIX to 8552 TS&Cs\n",
      "Ep 8 (Step 000105): Train loss 0.248, Val loss 0.322\n",
      "Ep 8 (Step 000110): Train loss 0.199, Val loss 0.324\n",
      "Ep 8 (Step 000115): Train loss 0.251, Val loss 0.346\n",
      "Congrats! 2 get txting for Free! Tb ok on Orange. 3A$ shows that a £350 prize GUARANTEED.\n",
      "Ep 9 (Step 000120): Train loss 0.181, Val loss 0.235\n",
      "Ep 9 (Step 000125): Train loss 0.195, Val loss 0.207\n",
      "Ep 9 (Step 000130): Train loss 0.193, Val loss 0.184\n",
      "Congrats! 1 year special cinema pass for 2 is yours. call 09061209465 now! C SuprmaneZadeGames, TC s, M26 3G, MK45, and 100x Ldn\n",
      "Ep 10 (Step 000135): Train loss 0.148, Val loss 0.200\n",
      "Ep 10 (Step 000140): Train loss 0.145, Val loss 0.196\n",
      "Ep 10 (Step 000145): Train loss 0.124, Val loss 0.136\n",
      "Congrats! 2 mobile 3G Videophones R yours. call 09063458130 now! videochat wid ur mates, play java games, Dload polypH music, noline rentl. bx420. ip4. 5we.\n",
      "Training completed in 142.94 minutes.\n"
     ]
    }
   ],
   "source": [
    "start_time = time.time()\n",
    "\n",
    "augment_model.to(device)\n",
    "optimizer = torch.optim.AdamW(augment_model.parameters(), lr=0.001, weight_decay=0.1)\n",
    "\n",
    "num_epochs = 10\n",
    "train_losses, val_losses, tokens_seen = train_model_simple(\n",
    "    augment_model, train_loader, val_loader, optimizer, device,\n",
    "    num_epochs=num_epochs, eval_freq=5, eval_iter=5,\n",
    "    start_context=\"Congrats!\", tokenizer=tokenizer\n",
    ")\n",
    "\n",
    "# Note:\n",
    "# Uncomment the following code to show the execution time\n",
    "end_time = time.time()\n",
    "execution_time_minutes = (end_time - start_time) / 60\n",
    "print(f\"Training completed in {execution_time_minutes:.2f} minutes.\")"
   ]
  },
  {
   "cell_type": "code",
   "execution_count": 41,
   "id": "ca023039-d858-47ae-839c-65c1a860e432",
   "metadata": {},
   "outputs": [],
   "source": [
    "#save trained model\n",
    "torch.save(augment_model.state_dict(), \"model_for_augmentation.pth\")"
   ]
  },
  {
   "cell_type": "code",
   "execution_count": 26,
   "id": "9dceafec-0b13-477a-a312-fd77830b1d97",
   "metadata": {},
   "outputs": [
    {
     "name": "stderr",
     "output_type": "stream",
     "text": [
      "/var/folders/tr/8w0nm2r933q2n7ws8zrfc_n40000gn/T/ipykernel_23976/1047902958.py:2: FutureWarning: You are using `torch.load` with `weights_only=False` (the current default value), which uses the default pickle module implicitly. It is possible to construct malicious pickle data which will execute arbitrary code during unpickling (See https://github.com/pytorch/pytorch/blob/main/SECURITY.md#untrusted-models for more details). In a future release, the default value for `weights_only` will be flipped to `True`. This limits the functions that could be executed during unpickling. Arbitrary objects will no longer be allowed to be loaded via this mode unless they are explicitly allowlisted by the user via `torch.serialization.add_safe_globals`. We recommend you start setting `weights_only=True` for any use case where you don't have full control of the loaded file. Please open an issue on GitHub for any issues related to this experimental feature.\n",
      "  augment_model.load_state_dict(torch.load(\"model_for_augmentation.pth\"))\n"
     ]
    }
   ],
   "source": [
    "if os.path.exists(\"model_for_augmentation.pth\"):\n",
    "    augment_model.load_state_dict(torch.load(\"model_for_augmentation.pth\"))\n",
    "    augment_model.to(\"cpu\")\n",
    "    augment_model.eval()"
   ]
  },
  {
   "cell_type": "code",
   "execution_count": 45,
   "id": "3c9b59ab-1147-498c-96aa-163c492bd1d8",
   "metadata": {},
   "outputs": [
    {
     "name": "stdout",
     "output_type": "stream",
     "text": [
      "Output text:\n",
      " Congrats 1 year special cinema pass for 2 is yours. call 09061209465 now! C Suprman V, Matrix3, StarWars3, etc all 4 FREE! bx420-ip4-5we. 150pm. Dont miss out! \n"
     ]
    }
   ],
   "source": [
    "# example of generating spam message\n",
    "token_ids = generate(\n",
    "    model=augment_model,\n",
    "    idx=text_to_token_ids(\"Congrats\", tokenizer),\n",
    "    max_new_tokens=70,\n",
    "    context_size=BASE_CONFIG[\"context_length\"],\n",
    "    top_k=25,\n",
    "    temperature=1.4\n",
    ")\n",
    "print(\"Output text:\\n\", token_ids_to_text(token_ids, tokenizer))"
   ]
  },
  {
   "cell_type": "code",
   "execution_count": 37,
   "id": "34284159-56c9-4d46-bce1-48cf3bc4ca0e",
   "metadata": {},
   "outputs": [],
   "source": [
    "num_aumented_texts = len(df[df[\"Label\"] == df[\"Label\"].unique()[0]]) - len(df[df[\"Label\"] == df[\"Label\"].unique()[1]])"
   ]
  },
  {
   "cell_type": "code",
   "execution_count": 98,
   "id": "caa11f85-dfe2-4376-8935-8f610efaae55",
   "metadata": {},
   "outputs": [
    {
     "name": "stderr",
     "output_type": "stream",
     "text": [
      "Text: 100%|██████████| 4078/4078 [48:15<00:00,  1.41it/s]  \n"
     ]
    }
   ],
   "source": [
    "# Generating messages to create balanced dataset. I took starting words from original spam dataset\n",
    "\n",
    "data = []\n",
    "starting_words = list(set(spam_df.str.split().str[0].tolist()))\n",
    "for _ in tqdm(range(num_aumented_texts), desc=\"Text\"):\n",
    "    import random\n",
    "    start_word = random.choice(starting_words)\n",
    "\n",
    "    token_ids = generate(\n",
    "        model=model,\n",
    "        idx=text_to_token_ids(start_word, tokenizer),\n",
    "        max_new_tokens=70,\n",
    "        context_size=BASE_CONFIG[\"context_length\"],\n",
    "        top_k=25,\n",
    "        temperature=2\n",
    "    )\n",
    "    generated_text = token_ids_to_text(token_ids, tokenizer)\n",
    "    data.append({\"Text\": generated_text, \"Label\": \"spam\"})\n",
    "\n",
    "# Convert to DataFrame\n",
    "df_augmented = pd.DataFrame(data)      \n",
    "df_combined = pd.concat([df, df_augmented], ignore_index=True)"
   ]
  },
  {
   "cell_type": "code",
   "execution_count": null,
   "id": "b93c725c-26e6-44d2-ad22-b184c71b98ea",
   "metadata": {},
   "outputs": [],
   "source": [
    "df_combined.to_csv(\"augmented_df.csv\", index=False)"
   ]
  },
  {
   "cell_type": "code",
   "execution_count": 263,
   "id": "1db0de94-9331-4ae9-82ac-b576cb9aeabd",
   "metadata": {},
   "outputs": [],
   "source": [
    "df_augm = pd.read_csv(\"augmented_df.csv\")"
   ]
  },
  {
   "cell_type": "code",
   "execution_count": 49,
   "id": "fe1a640d-c4e0-4830-88d8-504f4d3f5a5a",
   "metadata": {},
   "outputs": [
    {
     "data": {
      "image/png": "[encoded data removed]",
      "text/plain": [
       "<Figure size 800x600 with 1 Axes>"
      ]
     },
     "metadata": {},
     "output_type": "display_data"
    }
   ],
   "source": [
    "plot_lable(df_augm)"
   ]
  },
  {
   "cell_type": "markdown",
   "id": "461f47a9-894c-472d-a854-3b65b0910483",
   "metadata": {},
   "source": [
    "<a name=\"4\"></a>\n",
    "## 4 - Finetune classification model on balanced dataset"
   ]
  },
  {
   "cell_type": "code",
   "execution_count": 264,
   "id": "b2b563d1-d59d-46c9-8ee7-d71d7e855709",
   "metadata": {},
   "outputs": [],
   "source": [
    "df_augm[\"Label\"] = df_augm[\"Label\"].map({\"ham\": 0, \"spam\": 1})"
   ]
  },
  {
   "cell_type": "code",
   "execution_count": 309,
   "id": "7c73b451-7f22-40cd-82a0-cfff3003bc97",
   "metadata": {},
   "outputs": [],
   "source": [
    "def random_split(df, validation_frac):\n",
    "    df = df.sample(frac=1).reset_index(drop=True)\n",
    "\n",
    "    train_end = int(len(df) * validation_frac)\n",
    "\n",
    "    train_df = df[train_end:]\n",
    "    validation_df = df[:train_end]\n",
    "\n",
    "    return train_df, validation_df\n",
    "    \n",
    "train_df, test_df = random_split(df_augm, 0.2)"
   ]
  },
  {
   "cell_type": "code",
   "execution_count": 268,
   "id": "82672590-405d-4e87-b6e5-2f8cac275559",
   "metadata": {},
   "outputs": [],
   "source": [
    "train_class_loader = Loader.create_dataloader_v1(\n",
    "    tokenizer,\n",
    "    train_df,\n",
    "    batch_size=8,\n",
    "    max_length=BASE_CONFIG[\"context_length\"],\n",
    "    stride=BASE_CONFIG[\"context_length\"],\n",
    "    drop_last=True,\n",
    "    shuffle=True,\n",
    "    num_workers=0,\n",
    "    proc_type=\"classification\"\n",
    ")\n",
    "\n",
    "test_class_loader = Loader.create_dataloader_v1(\n",
    "    tokenizer,\n",
    "    test_df,\n",
    "    batch_size=8,\n",
    "    max_length=BASE_CONFIG[\"context_length\"],\n",
    "    stride=BASE_CONFIG[\"context_length\"],\n",
    "    drop_last=True,\n",
    "    shuffle=True,\n",
    "    num_workers=0,\n",
    "    proc_type=\"classification\"\n",
    ")"
   ]
  },
  {
   "cell_type": "code",
   "execution_count": 269,
   "id": "118a99c2-fa23-42ae-9af9-2a7a00c85188",
   "metadata": {},
   "outputs": [],
   "source": [
    "model_class = GPT_model.GPTModel(BASE_CONFIG)\n",
    "load_weights_into_gpt(model_class, params)\n",
    "model_class.eval();"
   ]
  },
  {
   "cell_type": "code",
   "execution_count": 270,
   "id": "b9b3f542-6d53-4285-a5b9-f5d2efba751f",
   "metadata": {},
   "outputs": [],
   "source": [
    "for param in model_class.parameters():\n",
    "    param.requires_grad = False\n",
    "\n",
    "# Adding classification head ontop of last layer of GPT model. So that it cold predict only based on 2 classes instead of whole dictionary\n",
    "model_class.out_head = torch.nn.Linear(in_features=BASE_CONFIG[\"emb_dim\"], out_features=num_classes)"
   ]
  },
  {
   "cell_type": "code",
   "execution_count": 271,
   "id": "e700188d-745c-4bf1-a450-e6fafa0faf23",
   "metadata": {},
   "outputs": [],
   "source": [
    "#Let's unfreeze last layer of all transformer blocks\n",
    "for param in model_class.trf_blocks[-1:].parameters():\n",
    "    param.requires_grad = True\n",
    "\n",
    "for param in model_class.final_norm.parameters():\n",
    "    param.requires_grad = True"
   ]
  },
  {
   "cell_type": "code",
   "execution_count": 272,
   "id": "ac314058-bb82-48d4-b6e4-81b2a3ba2c25",
   "metadata": {},
   "outputs": [],
   "source": [
    "def calc_accuracy_loader(data_loader, model, device, num_batches=None):\n",
    "    model.eval()\n",
    "    correct_predictions, num_examples = 0, 0\n",
    "\n",
    "    if num_batches is None:\n",
    "        num_batches = len(data_loader)\n",
    "    else:\n",
    "        num_batches = min(num_batches, len(data_loader))\n",
    "    for i, (input_batch, target_batch) in enumerate(data_loader):\n",
    "        if i < num_batches:\n",
    "            input_batch, target_batch = input_batch.to(device), target_batch.to(device)\n",
    "\n",
    "            with torch.no_grad():\n",
    "                logits = model(input_batch)[:, -1, :]  # Logits of last output token\n",
    "            predicted_labels = torch.argmax(logits, dim=-1)\n",
    "\n",
    "            num_examples += predicted_labels.shape[0]\n",
    "            correct_predictions += (predicted_labels == target_batch).sum().item()\n",
    "        else:\n",
    "            break\n",
    "    return correct_predictions / num_examples"
   ]
  },
  {
   "cell_type": "code",
   "execution_count": 273,
   "id": "f37909d9-a709-45ac-aba5-8d738ce01729",
   "metadata": {},
   "outputs": [],
   "source": [
    "def train_classifier(model, train_loader, val_loader, optimizer, device, num_epochs,\n",
    "                            eval_freq, eval_iter):\n",
    "    \n",
    "    train_losses, val_losses, train_accs, val_accs = [], [], [], []\n",
    "    examples_seen, global_step = 0, -1\n",
    "\n",
    "    for epoch in range(num_epochs):\n",
    "        model.train()  # Set model to training mode\n",
    "\n",
    "        progress_bar = tqdm(train_loader, desc=f\"Training Epoch {epoch + 1}/{num_epochs}\")\n",
    "        for input_batch, target_batch in progress_bar:\n",
    "            optimizer.zero_grad()\n",
    "            loss = calc_loss_batch(input_batch, target_batch, model, device)\n",
    "            loss.backward()\n",
    "            optimizer.step()\n",
    "            examples_seen += input_batch.shape[0]\n",
    "            global_step += 1\n",
    "\n",
    "        train_accuracy = calc_accuracy_loader(train_loader, model, device, num_batches=None)\n",
    "        val_accuracy = calc_accuracy_loader(val_loader, model, device, num_batches=None)\n",
    "        print(f\"Training accuracy: {train_accuracy*100:.2f}% | \", end=\"\")\n",
    "        print(f\"Validation accuracy: {val_accuracy*100:.2f}%\")\n",
    "        train_accs.append(train_accuracy)\n",
    "        val_accs.append(val_accuracy)\n",
    "\n",
    "    return train_losses, val_losses, train_accs, val_accs, examples_seen"
   ]
  },
  {
   "cell_type": "code",
   "execution_count": 274,
   "id": "86759adb-bd85-430b-ac57-86ce809fe013",
   "metadata": {},
   "outputs": [
    {
     "name": "stderr",
     "output_type": "stream",
     "text": [
      "Training Epoch 1/5: 100%|██████████| 965/965 [04:38<00:00,  3.47it/s]\n"
     ]
    },
    {
     "name": "stdout",
     "output_type": "stream",
     "text": [
      "Training accuracy: 95.13% | Validation accuracy: 94.87%\n"
     ]
    },
    {
     "name": "stderr",
     "output_type": "stream",
     "text": [
      "Training Epoch 2/5: 100%|██████████| 965/965 [23:38<00:00,  1.47s/it]    \n"
     ]
    },
    {
     "name": "stdout",
     "output_type": "stream",
     "text": [
      "Training accuracy: 96.35% | Validation accuracy: 96.11%\n"
     ]
    },
    {
     "name": "stderr",
     "output_type": "stream",
     "text": [
      "Training Epoch 3/5: 100%|██████████| 965/965 [04:39<00:00,  3.45it/s]\n"
     ]
    },
    {
     "name": "stdout",
     "output_type": "stream",
     "text": [
      "Training accuracy: 96.36% | Validation accuracy: 96.32%\n"
     ]
    },
    {
     "name": "stderr",
     "output_type": "stream",
     "text": [
      "Training Epoch 4/5: 100%|██████████| 965/965 [04:40<00:00,  3.44it/s]\n"
     ]
    },
    {
     "name": "stdout",
     "output_type": "stream",
     "text": [
      "Training accuracy: 96.68% | Validation accuracy: 96.52%\n"
     ]
    },
    {
     "name": "stderr",
     "output_type": "stream",
     "text": [
      "Training Epoch 5/5: 100%|██████████| 965/965 [04:40<00:00,  3.45it/s]\n"
     ]
    },
    {
     "name": "stdout",
     "output_type": "stream",
     "text": [
      "Training accuracy: 97.33% | Validation accuracy: 97.10%\n"
     ]
    }
   ],
   "source": [
    "model_class.to(device)\n",
    "\n",
    "num_epochs = 5\n",
    "optimizer = torch.optim.AdamW(model_class.parameters(), lr=5e-5, weight_decay=0.1)\n",
    "\n",
    "train_losses, val_losses, train_accs, val_accs, examples_seen = train_classifier(\n",
    "        model_class, train_class_loader, test_class_loader, optimizer, device, num_epochs=num_epochs, eval_freq=50, eval_iter=5\n",
    "    )"
   ]
  },
  {
   "cell_type": "code",
   "execution_count": 133,
   "id": "5474733a-ff12-421e-b53f-5c1ba1b6ab78",
   "metadata": {},
   "outputs": [],
   "source": [
    "torch.save(model_class.state_dict(), \"model_for_classification.pth\")"
   ]
  },
  {
   "cell_type": "code",
   "execution_count": 311,
   "id": "ac0567ff-44b6-4da7-bd15-82ae9b5e8efe",
   "metadata": {},
   "outputs": [],
   "source": [
    "def make_predictions(model, df, batch_size = None, num_examples = None, pad_token_id = 50256):\n",
    "    \"\"\"\n",
    "    Function that create predictions eather for all dataset or for given numbers of examples randomly peacked from dataset\n",
    "    \n",
    "    Returns:\n",
    "    Dataframe with original text, true label and predicted label \n",
    "    \"\"\"\n",
    "    if num_examples == \"All\":\n",
    "        batch_data = df.copy()\n",
    "        if batch_size == None:\n",
    "            batch_size = 8\n",
    "    else:\n",
    "        if batch_size == None:\n",
    "            batch_size = num_examples\n",
    "\n",
    "        elif batch_size > num_examples:\n",
    "            batch_size = num_examples\n",
    "\n",
    "        data_spam = df[df[\"Label\"] == 1].sample(num_examples)\n",
    "        data_nospam = df[df[\"Label\"] == 0].sample(num_examples)\n",
    "        batch_data = pd.concat([data_spam,data_nospam], ignore_index = True)\n",
    "\n",
    "\n",
    "    encoded_texts = [\n",
    "                tokenizer.encode(text) for text in batch_data[\"Text\"]\n",
    "            ]\n",
    "    \n",
    "    max_length = 0\n",
    "    for encoded_text in encoded_texts:\n",
    "        encoded_length = len(encoded_text)\n",
    "        if encoded_length > max_length:\n",
    "            max_length = encoded_length\n",
    "    \n",
    "                \n",
    "    encoded_texts = [\n",
    "            encoded_text[:max_length]\n",
    "            for encoded_text in encoded_texts\n",
    "        ]\n",
    "    \n",
    "    encoded_texts = [\n",
    "                encoded_text + [pad_token_id] * (max_length - len(encoded_text))\n",
    "                for encoded_text in encoded_texts\n",
    "            ]\n",
    "    pred_list = []\n",
    "    for i in tqdm(range(0, len(encoded_texts), batch_size), desc=\"Processing Batches\"):\n",
    "        input_tensor = torch.tensor(encoded_texts[i:i+batch_size], device=device)\n",
    "\n",
    "        with torch.no_grad():\n",
    "            logits = model(input_tensor)[:, -1, :]\n",
    "        \n",
    "        predictions = torch.argmax(logits, dim=-1)\n",
    "        pred_list.extend(predictions.cpu().numpy())\n",
    "\n",
    "    batch_data.loc[:, \"Pred\"] = pred_list\n",
    "\n",
    "    batch_data[\"Label\"] = batch_data[\"Label\"].map({0: \"ham\", 1: \"spam\"})\n",
    "    batch_data[\"Pred\"] = batch_data[\"Pred\"].map({0: \"ham\", 1: \"spam\"})\n",
    "    \n",
    "    return batch_data[[\"Text\", \"Label\", \"Pred\"]]"
   ]
  },
  {
   "cell_type": "code",
   "execution_count": 312,
   "id": "f53f3258-3649-402f-9348-14c0de431ba6",
   "metadata": {},
   "outputs": [
    {
     "name": "stderr",
     "output_type": "stream",
     "text": [
      "Processing Batches: 100%|██████████| 242/242 [00:43<00:00,  5.51it/s]\n"
     ]
    }
   ],
   "source": [
    "df_with_pred = make_predictions(model_class, test_df, batch_size = None, num_examples = \"All\")"
   ]
  },
  {
   "cell_type": "code",
   "execution_count": 211,
   "id": "fac03b69-fff2-4bc4-aa74-372ec5ab51b1",
   "metadata": {},
   "outputs": [],
   "source": [
    "def plot_confusion_matrix(Y_true, Y_pred):\n",
    "    cm = confusion_matrix(Y_true, Y_pred)\n",
    "\n",
    "    plt.figure(figsize=(8, 6))\n",
    "    sns.heatmap(cm, annot=True, fmt='g', cmap='Blues', xticklabels=target_names, yticklabels=target_names)\n",
    "    \n",
    "    # Set plot labels and title\n",
    "    plt.xlabel('Predicted Labels')\n",
    "    plt.ylabel('True Labels')\n",
    "    plt.title('Confusion Matrix Heatmap')\n",
    "    plt.show()"
   ]
  },
  {
   "cell_type": "code",
   "execution_count": 314,
   "id": "cf5d489e-a08b-4135-baee-a7408fcb5d25",
   "metadata": {},
   "outputs": [
    {
     "data": {
      "image/png": "[encoded data removed]",
      "text/plain": [
       "<Figure size 800x600 with 2 Axes>"
      ]
     },
     "metadata": {},
     "output_type": "display_data"
    }
   ],
   "source": [
    "plot_confusion_matrix(df_with_pred[\"Label\"], df_with_pred[\"Pred\"])"
   ]
  },
  {
   "cell_type": "code",
   "execution_count": 315,
   "id": "9afe56e9-1fa3-4159-9bcd-a944927a9003",
   "metadata": {},
   "outputs": [
    {
     "name": "stdout",
     "output_type": "stream",
     "text": [
      "              precision    recall  f1-score   support\n",
      "\n",
      "         ham       0.96      0.99      0.98       955\n",
      "        spam       0.99      0.96      0.98       975\n",
      "\n",
      "    accuracy                           0.98      1930\n",
      "   macro avg       0.98      0.98      0.98      1930\n",
      "weighted avg       0.98      0.98      0.98      1930\n",
      "\n"
     ]
    }
   ],
   "source": [
    "print(classification_report(df_with_pred[\"Label\"], df_with_pred[\"Pred\"]))"
   ]
  },
  {
   "cell_type": "code",
   "execution_count": 316,
   "id": "1cf5c505-ba62-48c3-a5f9-06dff343f716",
   "metadata": {},
   "outputs": [
    {
     "data": {
      "text/plain": [
       "0.9772020725388602"
      ]
     },
     "execution_count": 316,
     "metadata": {},
     "output_type": "execute_result"
    }
   ],
   "source": [
    "accuracy_score(df_with_pred[\"Label\"], df_with_pred[\"Pred\"])"
   ]
  }
 ],
 "metadata": {
  "kernelspec": {
   "display_name": "Python 3 (ipykernel)",
   "language": "python",
   "name": "python3"
  },
  "language_info": {
   "codemirror_mode": {
    "name": "ipython",
    "version": 3
   },
   "file_extension": ".py",
   "mimetype": "text/x-python",
   "name": "python",
   "nbconvert_exporter": "python",
   "pygments_lexer": "ipython3",
   "version": "3.9.20"
  }
 },
 "nbformat": 4,
 "nbformat_minor": 5
}
