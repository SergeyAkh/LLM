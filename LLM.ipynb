{
 "cells": [
  {
   "cell_type": "code",
   "execution_count": 4,
   "id": "aa1ab5b5-81bc-42e3-93a7-9217197e7705",
   "metadata": {},
   "outputs": [],
   "source": [
    "import numpy as np\n",
    "import pandas as pd\n",
    "import re"
   ]
  },
  {
   "cell_type": "code",
   "execution_count": 2,
   "id": "92a68c00-3a9b-429a-9efc-da88a9556006",
   "metadata": {},
   "outputs": [
    {
     "name": "stdout",
     "output_type": "stream",
     "text": [
      "20479\n"
     ]
    }
   ],
   "source": [
    "with open(\"the-verdict.txt\", \"r\", encoding = \"utf-8\") as f:\n",
    "    raw_text = f.read()\n",
    "\n",
    "print(len(raw_text))"
   ]
  },
  {
   "cell_type": "code",
   "execution_count": 3,
   "id": "ceaaa9ef-527a-4248-96a2-facfdb589822",
   "metadata": {},
   "outputs": [
    {
     "data": {
      "text/plain": [
       "'I HAD always thought Jack Gisburn rather a cheap genius--though a good fellow enough--so it was no '"
      ]
     },
     "execution_count": 3,
     "metadata": {},
     "output_type": "execute_result"
    }
   ],
   "source": [
    "raw_text[:99]"
   ]
  },
  {
   "cell_type": "code",
   "execution_count": 8,
   "id": "1d6eddb7-0cd9-4129-bf61-0d2b60e6105a",
   "metadata": {},
   "outputs": [],
   "source": [
    "text = \"Hello, world. This is a test\""
   ]
  },
  {
   "cell_type": "code",
   "execution_count": 22,
   "id": "3891de1a-73cb-4ce2-9f9e-09d9367b26fb",
   "metadata": {},
   "outputs": [],
   "source": [
    "preprocessed = re.split(r'([,.:?!_\"()\\']|--|\\s)', raw_text)\n",
    "preprocessed = [item.strip() for item in preprocessed if item.strip()]"
   ]
  },
  {
   "cell_type": "code",
   "execution_count": 25,
   "id": "fe5c30f3-4e0a-498d-b9db-649f488be53f",
   "metadata": {},
   "outputs": [
    {
     "data": {
      "text/plain": [
       "4669"
      ]
     },
     "execution_count": 25,
     "metadata": {},
     "output_type": "execute_result"
    }
   ],
   "source": [
    "len(preprocessed)"
   ]
  },
  {
   "cell_type": "code",
   "execution_count": 27,
   "id": "94a48d75-872f-460d-ad4b-00ee8ae92a15",
   "metadata": {},
   "outputs": [],
   "source": [
    "all_words = sorted(set(preprocessed))\n",
    "vocab_size = len(all_words)"
   ]
  },
  {
   "cell_type": "code",
   "execution_count": 33,
   "id": "a7957689-5d7a-4967-afb3-3267ef438ba4",
   "metadata": {},
   "outputs": [],
   "source": [
    "vocab = {words:num for num, words in enumerate(all_words)}"
   ]
  },
  {
   "cell_type": "code",
   "execution_count": 34,
   "id": "854efe5e-f531-4ddd-adb3-4ef499193e37",
   "metadata": {},
   "outputs": [],
   "source": [
    "import Tokenizer"
   ]
  },
  {
   "cell_type": "code",
   "execution_count": 53,
   "id": "f55d5b31-6109-4edf-9734-c4e8f458d0ab",
   "metadata": {},
   "outputs": [
    {
     "data": {
      "text/plain": [
       "<module 'Tokenizer' from '/Users/sergeiakhmadulin/My Drive/LLM/Tokenizer.py'>"
      ]
     },
     "execution_count": 53,
     "metadata": {},
     "output_type": "execute_result"
    }
   ],
   "source": [
    "import importlib\n",
    "importlib.reload(Tokenizer)"
   ]
  },
  {
   "cell_type": "code",
   "execution_count": 54,
   "id": "3fbc3f7c-5a1f-4d90-8fcd-0d51b5382ddb",
   "metadata": {},
   "outputs": [],
   "source": [
    "tokenizer = Tokenizer.SimpleTokenizerV1(vocab)"
   ]
  },
  {
   "cell_type": "code",
   "execution_count": null,
   "id": "6f74c34f-6a37-49a8-9ab2-0853d8c7c864",
   "metadata": {},
   "outputs": [],
   "source": []
  }
 ],
 "metadata": {
  "kernelspec": {
   "display_name": "Python 3 (ipykernel)",
   "language": "python",
   "name": "python3"
  },
  "language_info": {
   "codemirror_mode": {
    "name": "ipython",
    "version": 3
   },
   "file_extension": ".py",
   "mimetype": "text/x-python",
   "name": "python",
   "nbconvert_exporter": "python",
   "pygments_lexer": "ipython3",
   "version": "3.12.4"
  }
 },
 "nbformat": 4,
 "nbformat_minor": 5
}
